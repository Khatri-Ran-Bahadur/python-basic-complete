{
 "cells": [
  {
   "cell_type": "code",
   "execution_count": 1,
   "metadata": {},
   "outputs": [
    {
     "name": "stdout",
     "output_type": "stream",
     "text": [
      "Class average is 81.7\n"
     ]
    }
   ],
   "source": [
    "total=0\n",
    "grade_counter=0\n",
    "grades=[98,76,71,87,83,90,57,79,82,94]\n",
    "\n",
    "#processing phase\n",
    "for grade in grades:\n",
    "    total+=grade\n",
    "    grade_counter+=1\n",
    "\n",
    "average=total/grade_counter\n",
    "print(f'Class average is {average}')"
   ]
  },
  {
   "cell_type": "code",
   "execution_count": 4,
   "metadata": {},
   "outputs": [
    {
     "name": "stdout",
     "output_type": "stream",
     "text": [
      "7 times 5 is 35\n"
     ]
    }
   ],
   "source": [
    "#Display an f-string in which you insert the values of the variable number1 (7)\n",
    "# and number2(5) and their product The Display string should be\n",
    "# 7 times 5 in 35\n",
    "\n",
    "number1=7\n",
    "number2=5\n",
    "print(f'{number1} times {number2} is {number1*number2}')"
   ]
  }
 ],
 "metadata": {
  "kernelspec": {
   "display_name": "Python 3",
   "language": "python",
   "name": "python3"
  },
  "language_info": {
   "codemirror_mode": {
    "name": "ipython",
    "version": 3
   },
   "file_extension": ".py",
   "mimetype": "text/x-python",
   "name": "python",
   "nbconvert_exporter": "python",
   "pygments_lexer": "ipython3",
   "version": "3.7.6"
  }
 },
 "nbformat": 4,
 "nbformat_minor": 4
}
