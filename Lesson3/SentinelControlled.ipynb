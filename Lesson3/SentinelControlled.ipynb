{
 "cells": [
  {
   "cell_type": "code",
   "execution_count": 2,
   "metadata": {},
   "outputs": [
    {
     "name": "stdin",
     "output_type": "stream",
     "text": [
      "Enter grade -1 to end: 23\n",
      "Enter grade, -1 to end: 65\n",
      "Enter grade, -1 to end: 45\n",
      "Enter grade, -1 to end: 65\n",
      "Enter grade, -1 to end: 34\n",
      "Enter grade, -1 to end: 75\n",
      "Enter grade, -1 to end: 77\n",
      "Enter grade, -1 to end: 87\n",
      "Enter grade, -1 to end: 67\n",
      "Enter grade, -1 to end: -1\n"
     ]
    },
    {
     "name": "stdout",
     "output_type": "stream",
     "text": [
      "Class Average is59.78\n"
     ]
    }
   ],
   "source": [
    "# like do while\n",
    "total=0\n",
    "grade_counter=0\n",
    "grade=int(input('Enter grade -1 to end:'))\n",
    "while grade!=-1:\n",
    "    total+=grade\n",
    "    grade_counter+=1\n",
    "    grade=int(input('Enter grade, -1 to end:'))\n",
    "\n",
    "if grade_counter!=0:\n",
    "    average=total/grade_counter\n",
    "    print(f'Class Average is {average:.2f}')\n",
    "else:\n",
    "    print('No grades were entered')"
   ]
  }
 ],
 "metadata": {
  "kernelspec": {
   "display_name": "Python 3",
   "language": "python",
   "name": "python3"
  },
  "language_info": {
   "codemirror_mode": {
    "name": "ipython",
    "version": 3
   },
   "file_extension": ".py",
   "mimetype": "text/x-python",
   "name": "python",
   "nbconvert_exporter": "python",
   "pygments_lexer": "ipython3",
   "version": "3.6.10"
  }
 },
 "nbformat": 4,
 "nbformat_minor": 4
}
