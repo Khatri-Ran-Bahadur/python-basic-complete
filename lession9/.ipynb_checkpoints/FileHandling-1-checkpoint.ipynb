{
 "cells": [
  {
   "cell_type": "code",
   "execution_count": 3,
   "metadata": {},
   "outputs": [],
   "source": [
    "with open('accounts.txt',mode='w') as accounts:\n",
    "    accounts.write('100 Jones 24.98 \\n')\n",
    "    accounts.write('101 Ran 23.98 \\n')\n",
    "    accounts.write('102 Hari 45.98 \\n')\n",
    "    accounts.write('103 Indra 27.98 \\n')\n",
    "    accounts.write('104 Govinda 29.98 \\n')\n",
    "    accounts.write('105 Hari 29.98 \\n')"
   ]
  },
  {
   "cell_type": "code",
   "execution_count": 6,
   "metadata": {},
   "outputs": [
    {
     "name": "stdout",
     "output_type": "stream",
     "text": [
      " Volume in drive D has no label.\n",
      " Volume Serial Number is F835-2B87\n",
      "\n",
      " Directory of D:\\Software Project\\python\\learnPython\\lession9\n",
      "\n",
      "20/04/28  10:16 PM    <DIR>          .\n",
      "20/04/28  10:16 PM    <DIR>          ..\n",
      "20/04/28  10:15 PM    <DIR>          .ipynb_checkpoints\n",
      "20/04/28  10:16 PM               106 accounts.txt\n",
      "20/04/28  10:16 PM             1,028 FileHandling-1.ipynb\n",
      "               2 File(s)          1,134 bytes\n",
      "               3 Dir(s)  100,544,385,024 bytes free\n"
     ]
    }
   ],
   "source": [
    "!dir\n"
   ]
  },
  {
   "cell_type": "code",
   "execution_count": 7,
   "metadata": {},
   "outputs": [
    {
     "name": "stdout",
     "output_type": "stream",
     "text": [
      "100 Jones 24.98 \n",
      "101 Ran 23.98 \n",
      "102 Hari 45.98 \n",
      "103 Indra 27.98 \n",
      "104 Govinda 29.98 \n",
      "105 Hari 29.98 \n"
     ]
    }
   ],
   "source": [
    "!more accounts.txt"
   ]
  },
  {
   "cell_type": "code",
   "execution_count": null,
   "metadata": {},
   "outputs": [],
   "source": []
  }
 ],
 "metadata": {
  "kernelspec": {
   "display_name": "Python 3",
   "language": "python",
   "name": "python3"
  },
  "language_info": {
   "codemirror_mode": {
    "name": "ipython",
    "version": 3
   },
   "file_extension": ".py",
   "mimetype": "text/x-python",
   "name": "python",
   "nbconvert_exporter": "python",
   "pygments_lexer": "ipython3",
   "version": "3.7.6"
  }
 },
 "nbformat": 4,
 "nbformat_minor": 4
}
