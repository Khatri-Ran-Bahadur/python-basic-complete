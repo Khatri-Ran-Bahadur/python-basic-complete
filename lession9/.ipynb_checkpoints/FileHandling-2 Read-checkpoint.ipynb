{
 "cells": [
  {
   "cell_type": "code",
   "execution_count": 3,
   "metadata": {},
   "outputs": [
    {
     "name": "stdout",
     "output_type": "stream",
     "text": [
      "Account   Name         Balance\n",
      "100       Jones          24.98\n",
      "101       Ran            23.98\n",
      "102       Hari           45.98\n",
      "103       Indra          27.98\n",
      "104       Govinda        29.98\n",
      "105       Hari           29.98\n"
     ]
    }
   ],
   "source": [
    "with open('accounts.txt',mode='r') as accounts:\n",
    "    print(f'{\"Account\":<10}{\"Name\":<10}{\"Balance\":>10}')\n",
    "    for record in accounts:\n",
    "        account,name,balance=record.split()\n",
    "        print(f'{account:<10}{name:<10}{balance:>10}')"
   ]
  },
  {
   "cell_type": "code",
   "execution_count": null,
   "metadata": {},
   "outputs": [],
   "source": []
  }
 ],
 "metadata": {
  "kernelspec": {
   "display_name": "Python 3",
   "language": "python",
   "name": "python3"
  },
  "language_info": {
   "codemirror_mode": {
    "name": "ipython",
    "version": 3
   },
   "file_extension": ".py",
   "mimetype": "text/x-python",
   "name": "python",
   "nbconvert_exporter": "python",
   "pygments_lexer": "ipython3",
   "version": "3.7.6"
  }
 },
 "nbformat": 4,
 "nbformat_minor": 4
}
