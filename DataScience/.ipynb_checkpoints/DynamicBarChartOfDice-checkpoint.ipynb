{
 "cells": [
  {
   "cell_type": "code",
   "execution_count": 1,
   "metadata": {},
   "outputs": [],
   "source": [
    "from matplotlib import animation\n",
    "import matplotlib.pyplot as plt "
   ]
  },
  {
   "cell_type": "code",
   "execution_count": 2,
   "metadata": {},
   "outputs": [],
   "source": [
    "import random"
   ]
  },
  {
   "cell_type": "code",
   "execution_count": 3,
   "metadata": {},
   "outputs": [],
   "source": [
    "from matplotlib.pyplot import figure"
   ]
  },
  {
   "cell_type": "code",
   "execution_count": 4,
   "metadata": {},
   "outputs": [],
   "source": [
    "import seaborn as sns"
   ]
  },
  {
   "cell_type": "code",
   "execution_count": 5,
   "metadata": {},
   "outputs": [],
   "source": [
    "import sys"
   ]
  },
  {
   "cell_type": "code",
   "execution_count": 8,
   "metadata": {},
   "outputs": [
    {
     "data": {
      "text/plain": [
       "<Figure size 432x288 with 0 Axes>"
      ]
     },
     "metadata": {},
     "output_type": "display_data"
    }
   ],
   "source": [
    "def update(frame_number,rolls,faces,frequencies):\n",
    "    #roll die and update frequencies\n",
    "    for i in range(rolls):\n",
    "        frequencies[random.randrange(1,7)-1]+=1\n",
    "    #reconfigure plot for updated die frequencies \n",
    "    plt.cla() #clear old contents contents of current Figure\n",
    "    axes=sns.barplot(faces,frequencies,palette='bright') #new bars\n",
    "    axes.set_xlabel(\"Die Value\")\n",
    "    axes.set_ylabel(\"Frequency\")\n",
    "    axes.set_ylim(top=max(frequencies)*1.10) #scale y-axis by 10%\n",
    "    \n",
    "    #display frequency & percentage above each patch (bar)\n",
    "    for bar, frequency in zip(axes.patches,frequencies):\n",
    "        text_x=bar.get_x()+bar.get_width()/2.0\n",
    "        text_y=bar.get_height()\n",
    "        text=f'{frequency:,} \\n {frequency/sum(frequencies):.3%}'\n",
    "        axes.text(text_x,text_y,text,ha='center',va='bottom')\n",
    "        \n",
    "#read command -line arguments for number of frames and rolls per frame\n",
    "number_of_frames=int(sys.argv[1])\n",
    "rolls_per_frame=int(sys.argv[2])\n",
    "\n",
    "sns.set_style('whitegrid') #white background with gray grid lines\n",
    "figure=plt.figure('Rolling a Six-Sided Die') #Figure for animation\n",
    "values=list(range(1,7)) #die faces for display on x-axis\n",
    "frequencies=[0]*6 #six-element list od die frequencies\n",
    "\n",
    "#configure and start animation that calls functioon update\n",
    "die_animation=animation.FuncAnimation(figure,update,repeat=False,frames=number_of_frames,interval=33,fargs=(rolls_per_frame,values,frequencies))\n",
    "plt.show() #display window\n"
   ]
  },
  {
   "cell_type": "code",
   "execution_count": 1,
   "metadata": {},
   "outputs": [
    {
     "name": "stdout",
     "output_type": "stream",
     "text": [
      "The following commands were written to file `dynamicDicePlot.py`:\n",
      "get_ipython().run_line_magic('save', 'dynamicDicePlot.py 1-8')\n"
     ]
    }
   ],
   "source": [
    "%save dynamicDicePlot.py 1-8"
   ]
  },
  {
   "cell_type": "code",
   "execution_count": null,
   "metadata": {},
   "outputs": [],
   "source": []
  }
 ],
 "metadata": {
  "kernelspec": {
   "display_name": "Python 3",
   "language": "python",
   "name": "python3"
  },
  "language_info": {
   "codemirror_mode": {
    "name": "ipython",
    "version": 3
   },
   "file_extension": ".py",
   "mimetype": "text/x-python",
   "name": "python",
   "nbconvert_exporter": "python",
   "pygments_lexer": "ipython3",
   "version": "3.7.6"
  }
 },
 "nbformat": 4,
 "nbformat_minor": 4
}
