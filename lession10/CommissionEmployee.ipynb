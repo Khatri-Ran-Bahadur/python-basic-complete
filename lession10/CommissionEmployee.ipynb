{
 "cells": [
  {
   "cell_type": "code",
   "execution_count": 50,
   "metadata": {},
   "outputs": [],
   "source": [
    "\"\"\"CommissionEmployee base class.\"\"\"\n",
    "from decimal import Decimal\n"
   ]
  },
  {
   "cell_type": "code",
   "execution_count": 51,
   "metadata": {},
   "outputs": [],
   "source": [
    "class CommissionEmployee:\n",
    "    \n",
    "    def __init__(self, first_name, last_name, ssn, \n",
    "                     gross_sales, commission_rate):\n",
    "            \"\"\"Initialize CommissionEmployee's attributes.\"\"\"\n",
    "            self._first_name = first_name\n",
    "            self._last_name = last_name\n",
    "            self._ssn = ssn\n",
    "            self.gross_sales = gross_sales  # validate via property\n",
    "            self.commission_rate = commission_rate  # validate via property"
   ]
  },
  {
   "cell_type": "code",
   "execution_count": 52,
   "metadata": {},
   "outputs": [],
   "source": [
    "    @property\n",
    "    def first_name(self):\n",
    "        return self._first_name"
   ]
  },
  {
   "cell_type": "code",
   "execution_count": 53,
   "metadata": {},
   "outputs": [],
   "source": [
    "    @property\n",
    "    def last_name(self):\n",
    "        return self._last_name"
   ]
  },
  {
   "cell_type": "code",
   "execution_count": 54,
   "metadata": {},
   "outputs": [],
   "source": [
    "    @property\n",
    "    def ssn(self):\n",
    "        return self._ssn"
   ]
  },
  {
   "cell_type": "code",
   "execution_count": 55,
   "metadata": {},
   "outputs": [],
   "source": [
    "    @property\n",
    "    def gross_sales(self):\n",
    "        return self._gross_sales"
   ]
  },
  {
   "cell_type": "code",
   "execution_count": 56,
   "metadata": {},
   "outputs": [],
   "source": [
    "    @gross_sales.setter\n",
    "    def gross_sales(self, sales):\n",
    "        \"\"\"Set gross sales or raise ValueError if invalid.\"\"\"\n",
    "        if sales < Decimal('0.00'):\n",
    "            raise ValueError('Gross sales must be >= to 0')\n",
    "\n",
    "        self._gross_sales = sales"
   ]
  },
  {
   "cell_type": "code",
   "execution_count": 57,
   "metadata": {},
   "outputs": [],
   "source": [
    "    @property\n",
    "    def commission_rate(self):\n",
    "        return self._commission_rate"
   ]
  },
  {
   "cell_type": "code",
   "execution_count": 58,
   "metadata": {},
   "outputs": [],
   "source": [
    "    @commission_rate.setter\n",
    "    def commission_rate(self, rate):\n",
    "        \"\"\"Set commission rate or raise ValueError if invalid.\"\"\"\n",
    "        if not (Decimal('0.0') < rate < Decimal('1.0')):\n",
    "            raise ValueError(\n",
    "               'Interest rate must be greater than 0 and less than 1')\n",
    "\n",
    "        self._commission_rate = rate"
   ]
  },
  {
   "cell_type": "code",
   "execution_count": 59,
   "metadata": {},
   "outputs": [],
   "source": [
    "    def earnings(self):\n",
    "        \"\"\"Calculate earnings.\"\"\"   \n",
    "        return self.gross_sales * self.commission_rate"
   ]
  },
  {
   "cell_type": "code",
   "execution_count": 61,
   "metadata": {},
   "outputs": [],
   "source": [
    "    def __repr__(self):\n",
    "        \"\"\"Return string representation for repr().\"\"\"\n",
    "        return ('CommissionEmployee: ' + \n",
    "            f'{self.first_name} {self.last_name}\\n' +\n",
    "            f'social security number: {self.ssn}\\n' +\n",
    "            f'gross sales: {self.gross_sales:.2f}\\n' +\n",
    "            f'commission rate: {self.commission_rate:.2f}')"
   ]
  },
  {
   "cell_type": "code",
   "execution_count": 62,
   "metadata": {},
   "outputs": [
    {
     "name": "stdin",
     "output_type": "stream",
     "text": [
      "File `commissionemployee.py` exists. Overwrite (y/[N])?   y\n"
     ]
    },
    {
     "name": "stdout",
     "output_type": "stream",
     "text": [
      "The following commands were written to file `commissionemployee.py`:\n",
      "\"\"\"CommissionEmployee base class.\"\"\"\n",
      "from decimal import Decimal\n",
      "def __init__(self, first_name, last_name, ssn, \n",
      "                 gross_sales, commission_rate):\n",
      "        \"\"\"Initialize CommissionEmployee's attributes.\"\"\"\n",
      "        self._first_name = first_name\n",
      "        self._last_name = last_name\n",
      "        self._ssn = ssn\n",
      "        self.gross_sales = gross_sales  # validate via property\n",
      "        self.commission_rate = commission_rate  # validate via property\n",
      "@property\n",
      "    def first_name(self):\n",
      "        return self._first_name\n",
      "\n",
      "    @property\n",
      "    def last_name(self):\n",
      "        return self._last_name\n",
      "\n",
      "    @property\n",
      "    def ssn(self):\n",
      "        return self._ssn\n",
      "\n",
      "    @property\n",
      "    def gross_sales(self):\n",
      "        return self._gross_sales\n",
      "\n",
      "    @gross_sales.setter\n",
      "    def gross_sales(self, sales):\n",
      "        \"\"\"Set gross sales or raise ValueError if invalid.\"\"\"\n",
      "        if sales < Decimal('0.00'):\n",
      "            raise ValueError('Gross sales must be >= to 0')\n",
      "        \n",
      "        self._gross_sales = sales\n",
      "@property\n",
      "    def first_name(self):\n",
      "        return self._first_name\n",
      "@property\n",
      "def first_name(self):\n",
      "    return self._first_name\n",
      "@property\n",
      "    def last_name(self):\n",
      "        return self._last_name\n",
      "@property\n",
      "def last_name(self):\n",
      "    return self._last_name\n",
      "@property\n",
      "def ssn(self):\n",
      "    return self._ssn\n",
      "@property\n",
      "def ssn(self):\n",
      "    return self._ssn\n",
      "@property\n",
      "def gross_sales(self):\n",
      "    return self._gross_sales\n",
      "@gross_sales.setter\n",
      "def gross_sales(self, sales):\n",
      "    \"\"\"Set gross sales or raise ValueError if invalid.\"\"\"\n",
      "    if sales < Decimal('0.00'):\n",
      "        raise ValueError('Gross sales must be >= to 0')\n",
      "\n",
      "    self._gross_sales = sales\n",
      "@property\n",
      "def commission_rate(self):\n",
      "    return self._commission_rate\n",
      "@commission_rate.setter\n",
      "def commission_rate(self, rate):\n",
      "    \"\"\"Set commission rate or raise ValueError if invalid.\"\"\"\n",
      "    if not (Decimal('0.0') < rate < Decimal('1.0')):\n",
      "        raise ValueError(\n",
      "           'Interest rate must be greater than 0 and less than 1')\n",
      "\n",
      "    self._commission_rate = rate\n",
      "def earnings(self):\n",
      "    \"\"\"Calculate earnings.\"\"\"   \n",
      "    return self.gross_sales * self.commission_rate\n",
      "def __repr__(self):\n",
      "  \"\"\"Return string representation for repr().\"\"\"\n",
      "  return ('CommissionEmployee: ' + \n",
      "      f'{self.first_name} {self.last_name}\\n' +\n",
      "      f'social security number: {self.ssn}\\n' +\n",
      "      f'gross sales: {self.gross_sales:.2f}\\n' +\n",
      "      f'commission rate: {self.commission_rate:.2f}')\n"
     ]
    }
   ],
   "source": [
    "%save commissionemployee.py 1-15"
   ]
  },
  {
   "cell_type": "code",
   "execution_count": null,
   "metadata": {},
   "outputs": [],
   "source": []
  },
  {
   "cell_type": "code",
   "execution_count": null,
   "metadata": {},
   "outputs": [],
   "source": []
  }
 ],
 "metadata": {
  "kernelspec": {
   "display_name": "Python 3",
   "language": "python",
   "name": "python3"
  },
  "language_info": {
   "codemirror_mode": {
    "name": "ipython",
    "version": 3
   },
   "file_extension": ".py",
   "mimetype": "text/x-python",
   "name": "python",
   "nbconvert_exporter": "python",
   "pygments_lexer": "ipython3",
   "version": "3.7.6"
  }
 },
 "nbformat": 4,
 "nbformat_minor": 4
}
