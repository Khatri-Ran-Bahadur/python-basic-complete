{
 "cells": [
  {
   "cell_type": "code",
   "execution_count": 3,
   "metadata": {},
   "outputs": [],
   "source": [
    "class Time:\n",
    "    def __init__(self, hour=0,minute=0,second=0):\n",
    "        self.hour=hour\n",
    "        self.minute=minute\n",
    "        self.second=second\n",
    "    @property\n",
    "    def hour(self):\n",
    "        return self._hour\n",
    "    @hour.setter\n",
    "    def hour(self,hour):\n",
    "        if not (0<=hour<24):\n",
    "            raise ValueError(f'Hour ({hour}) must be 0-23')\n",
    "        self._hour=hour\n",
    "    @property\n",
    "    def minute(self):\n",
    "        return self._minute\n",
    "    @hour.setter\n",
    "    def minute(self,minute):\n",
    "        if not (0<=minute<60):\n",
    "            raise ValueError(f'Minute ({minute}) must be 0-59')\n",
    "        self._minute=minute\n",
    "    @property\n",
    "    def secong(self):\n",
    "        return self._second\n",
    "    @hour.setter\n",
    "    def second(self,second):\n",
    "        if not (0<=second<60):\n",
    "            raise ValueError(f'Second ({second}) must be 0-59')\n",
    "        self._second=second \n",
    "    def set_time(self,hour=0,minute=0,second=0):\n",
    "        self.hour=hour\n",
    "        self.minute=minute\n",
    "        self.second=second\n",
    "    def __repr__(self):\n",
    "        return print(f'Time(hour={self.hour},minute={self.minute}, second={self.second})')\n",
    "    def __str__(self):\n",
    "        return (('12' if self.hour in (0,12) else str(self.hour%12))+\n",
    "                f':{self.minute:0>2}:{self.second:0>2}'+\n",
    "                (' AM' if self.hour <12 else ' PM'))\n",
    "                 "
   ]
  },
  {
   "cell_type": "code",
   "execution_count": 6,
   "metadata": {},
   "outputs": [],
   "source": [
    "time=Time(hour=8,minute=32,second=44)"
   ]
  },
  {
   "cell_type": "code",
   "execution_count": 8,
   "metadata": {},
   "outputs": [
    {
     "data": {
      "text/plain": [
       "'8:08:08 AM'"
      ]
     },
     "execution_count": 8,
     "metadata": {},
     "output_type": "execute_result"
    }
   ],
   "source": [
    "time.__str__()"
   ]
  },
  {
   "cell_type": "code",
   "execution_count": null,
   "metadata": {},
   "outputs": [],
   "source": [
    "#see lecture if confuse"
   ]
  }
 ],
 "metadata": {
  "kernelspec": {
   "display_name": "Python 3",
   "language": "python",
   "name": "python3"
  },
  "language_info": {
   "codemirror_mode": {
    "name": "ipython",
    "version": 3
   },
   "file_extension": ".py",
   "mimetype": "text/x-python",
   "name": "python",
   "nbconvert_exporter": "python",
   "pygments_lexer": "ipython3",
   "version": "3.7.6"
  }
 },
 "nbformat": 4,
 "nbformat_minor": 4
}
