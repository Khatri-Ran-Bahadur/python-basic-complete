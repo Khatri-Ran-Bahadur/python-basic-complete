{
 "cells": [
  {
   "cell_type": "code",
   "execution_count": 2,
   "metadata": {},
   "outputs": [
    {
     "name": "stderr",
     "output_type": "stream",
     "text": [
      "'random' is not recognized as an internal or external command,\n",
      "operable program or batch file.\n"
     ]
    }
   ],
   "source": [
    "import random\n"
   ]
  },
  {
   "cell_type": "code",
   "execution_count": 6,
   "metadata": {},
   "outputs": [
    {
     "name": "stdout",
     "output_type": "stream",
     "text": [
      "Player rolled 1+3=4\n",
      "Point is 4\n",
      "Player rolled 6+5=11\n",
      "Player rolled 1+5=6\n",
      "Player rolled 3+1=4\n",
      "Player wins\n"
     ]
    }
   ],
   "source": [
    "def roll_dice():\n",
    "    die1=random.randrange(1,7)\n",
    "    die2=random.randrange(1,7)\n",
    "    return (die1,die2)\n",
    "\n",
    "def display_dice(dice):\n",
    "    \"\"\"Display one roll of the two dice\"\"\"\n",
    "    die1,die2=dice\n",
    "    print(f'Player rolled {die1}+{die2}={sum(dice)}')\n",
    "    \n",
    "die_values=roll_dice()\n",
    "display_dice(die_values)\n",
    "\n",
    "#determine game status an dpoint based on first roll\n",
    "sum_of_dice= sum(die_values)\n",
    "\n",
    "if sum_of_dice in (7,11):\n",
    "    game_status='WON'\n",
    "elif sum_of_dice in (2,3,12):\n",
    "    game_status='LOST'\n",
    "else:\n",
    "    game_status='CONTINUE'\n",
    "    my_point=sum_of_dice\n",
    "    print('Point is' ,my_point)\n",
    "while game_status=='CONTINUE':\n",
    "    die_values=roll_dice()\n",
    "    display_dice(die_values)\n",
    "    sum_of_dice=sum(die_values)\n",
    "    \n",
    "    if sum_of_dice==my_point:\n",
    "        game_status='WON'\n",
    "    elif sum_of_dice==7:\n",
    "        game_status='LOST'\n",
    "\n",
    "if game_status=='WON':\n",
    "    print('Player wins')\n",
    "else:\n",
    "    print('Player loses')\n",
    "    "
   ]
  },
  {
   "cell_type": "code",
   "execution_count": 3,
   "metadata": {},
   "outputs": [],
   "source": [
    "import math"
   ]
  },
  {
   "cell_type": "code",
   "execution_count": 4,
   "metadata": {},
   "outputs": [
    {
     "data": {
      "text/plain": [
       "\u001b[1;31mType:\u001b[0m        module\n",
       "\u001b[1;31mString form:\u001b[0m <module 'math' (built-in)>\n",
       "\u001b[1;31mDocstring:\u001b[0m  \n",
       "This module provides access to the mathematical functions\n",
       "defined by the C standard.\n"
      ]
     },
     "metadata": {},
     "output_type": "display_data"
    }
   ],
   "source": [
    "math?"
   ]
  },
  {
   "cell_type": "code",
   "execution_count": 5,
   "metadata": {},
   "outputs": [
    {
     "name": "stderr",
     "output_type": "stream",
     "text": [
      "'math' is not recognized as an internal or external command,\n",
      "operable program or batch file.\n"
     ]
    }
   ],
   "source": [
    "!math"
   ]
  },
  {
   "cell_type": "code",
   "execution_count": 6,
   "metadata": {},
   "outputs": [
    {
     "ename": "SyntaxError",
     "evalue": "invalid syntax (<ipython-input-6-61b3eae080b4>, line 1)",
     "output_type": "error",
     "traceback": [
      "\u001b[1;36m  File \u001b[1;32m\"<ipython-input-6-61b3eae080b4>\"\u001b[1;36m, line \u001b[1;32m1\u001b[0m\n\u001b[1;33m    math?.\u001b[0m\n\u001b[1;37m        ^\u001b[0m\n\u001b[1;31mSyntaxError\u001b[0m\u001b[1;31m:\u001b[0m invalid syntax\n"
     ]
    }
   ],
   "source": [
    "math?.\n"
   ]
  },
  {
   "cell_type": "code",
   "execution_count": null,
   "metadata": {},
   "outputs": [],
   "source": []
  }
 ],
 "metadata": {
  "kernelspec": {
   "display_name": "Python 3",
   "language": "python",
   "name": "python3"
  },
  "language_info": {
   "codemirror_mode": {
    "name": "ipython",
    "version": 3
   },
   "file_extension": ".py",
   "mimetype": "text/x-python",
   "name": "python",
   "nbconvert_exporter": "python",
   "pygments_lexer": "ipython3",
   "version": "3.7.6"
  }
 },
 "nbformat": 4,
 "nbformat_minor": 4
}
