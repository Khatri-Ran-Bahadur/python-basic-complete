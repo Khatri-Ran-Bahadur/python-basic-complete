{
 "cells": [
  {
   "cell_type": "code",
   "execution_count": 2,
   "metadata": {},
   "outputs": [
    {
     "name": "stderr",
     "output_type": "stream",
     "text": [
      "'random' is not recognized as an internal or external command,\n",
      "operable program or batch file.\n"
     ]
    }
   ],
   "source": [
    "import random\n"
   ]
  },
  {
   "cell_type": "code",
   "execution_count": 6,
   "metadata": {},
   "outputs": [
    {
     "name": "stdout",
     "output_type": "stream",
     "text": [
      "Player rolled 1+3=4\n",
      "Point is 4\n",
      "Player rolled 6+5=11\n",
      "Player rolled 1+5=6\n",
      "Player rolled 3+1=4\n",
      "Player wins\n"
     ]
    }
   ],
   "source": [
    "def roll_dice():\n",
    "    die1=random.randrange(1,7)\n",
    "    die2=random.randrange(1,7)\n",
    "    return (die1,die2)\n",
    "\n",
    "def display_dice(dice):\n",
    "    \"\"\"Display one roll of the two dice\"\"\"\n",
    "    die1,die2=dice\n",
    "    print(f'Player rolled {die1}+{die2}={sum(dice)}')\n",
    "    \n",
    "die_values=roll_dice()\n",
    "display_dice(die_values)\n",
    "\n",
    "#determine game status an dpoint based on first roll\n",
    "sum_of_dice= sum(die_values)\n",
    "\n",
    "if sum_of_dice in (7,11):\n",
    "    game_status='WON'\n",
    "elif sum_of_dice in (2,3,12):\n",
    "    game_status='LOST'\n",
    "else:\n",
    "    game_status='CONTINUE'\n",
    "    my_point=sum_of_dice\n",
    "    print('Point is' ,my_point)\n",
    "while game_status=='CONTINUE':\n",
    "    die_values=roll_dice()\n",
    "    display_dice(die_values)\n",
    "    sum_of_dice=sum(die_values)\n",
    "    \n",
    "    if sum_of_dice==my_point:\n",
    "        game_status='WON'\n",
    "    elif sum_of_dice==7:\n",
    "        game_status='LOST'\n",
    "\n",
    "if game_status=='WON':\n",
    "    print('Player wins')\n",
    "else:\n",
    "    print('Player loses')\n",
    "    "
   ]
  },
  {
   "cell_type": "code",
   "execution_count": null,
   "metadata": {},
   "outputs": [],
   "source": []
  }
 ],
 "metadata": {
  "kernelspec": {
   "display_name": "Python 3",
   "language": "python",
   "name": "python3"
  },
  "language_info": {
   "codemirror_mode": {
    "name": "ipython",
    "version": 3
   },
   "file_extension": ".py",
   "mimetype": "text/x-python",
   "name": "python",
   "nbconvert_exporter": "python",
   "pygments_lexer": "ipython3",
   "version": "3.7.6"
  }
 },
 "nbformat": 4,
 "nbformat_minor": 4
}
